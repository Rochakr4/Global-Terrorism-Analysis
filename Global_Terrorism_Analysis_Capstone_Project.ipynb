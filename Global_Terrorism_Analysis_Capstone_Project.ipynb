{
  "nbformat": 4,
  "nbformat_minor": 0,
  "metadata": {
    "kernelspec": {
      "display_name": "Python 3",
      "language": "python",
      "name": "python3"
    },
    "language_info": {
      "codemirror_mode": {
        "name": "ipython",
        "version": 3
      },
      "file_extension": ".py",
      "mimetype": "text/x-python",
      "name": "python",
      "nbconvert_exporter": "python",
      "pygments_lexer": "ipython3",
      "version": "3.6.6"
    },
    "colab": {
      "name": "Global Terrorism Analysis - Capstone Project.ipynb",
      "provenance": [],
      "collapsed_sections": [],
      "include_colab_link": true
    }
  },
  "cells": [
    {
      "cell_type": "markdown",
      "metadata": {
        "id": "view-in-github",
        "colab_type": "text"
      },
      "source": [
        "<a href=\"https://colab.research.google.com/github/Rochakr4/Global-Terrorism-Analysis/blob/main/Global_Terrorism_Analysis_Capstone_Project.ipynb\" target=\"_parent\"><img src=\"https://colab.research.google.com/assets/colab-badge.svg\" alt=\"Open In Colab\"/></a>"
      ]
    },
    {
      "cell_type": "markdown",
      "metadata": {
        "id": "Y06xIdG26kRF"
      },
      "source": [
        "## <b> The Global Terrorism Database (GTD) is an open-source database including information on terrorist attacks around the world from 1970 through 2017. The GTD includes systematic data on domestic as well as international terrorist incidents that have occurred during this time period and now includes more than 180,000 attacks. The database is maintained by researchers at the National Consortium for the Study of Terrorism and Responses to Terrorism (START), headquartered at the University of Maryland.</b>\n",
        "\n",
        "# <b> Explore and analyze the data to discover key findings pertaining to terrorist activities. </b>"
      ]
    },
    {
      "cell_type": "code",
      "metadata": {
        "id": "dByMsuzT8Tnw"
      },
      "source": [
        "#let's take help of following libraries\n",
        "import numpy as np\n",
        "import pandas as pd\n",
        "import matplotlib.pyplot as plt\n",
        "import seaborn as sns\n",
        "import plotly.express as px  \n",
        "from wordcloud import WordCloud \n",
        "import plotly.graph_objects as go"
      ],
      "execution_count": 1,
      "outputs": []
    },
    {
      "cell_type": "code",
      "source": [
        "pip install --upgrade plotly"
      ],
      "metadata": {
        "colab": {
          "base_uri": "https://localhost:8080/"
        },
        "id": "u4xKMyyQwltP",
        "outputId": "765b3e7b-c390-4d56-d5af-a52968621b3c"
      },
      "execution_count": 2,
      "outputs": [
        {
          "output_type": "stream",
          "name": "stdout",
          "text": [
            "Requirement already satisfied: plotly in /usr/local/lib/python3.7/dist-packages (5.6.0)\n",
            "Requirement already satisfied: tenacity>=6.2.0 in /usr/local/lib/python3.7/dist-packages (from plotly) (8.0.1)\n",
            "Requirement already satisfied: six in /usr/local/lib/python3.7/dist-packages (from plotly) (1.15.0)\n"
          ]
        }
      ]
    },
    {
      "cell_type": "code",
      "source": [
        "from google.colab import drive\n",
        "drive.mount('/content/drive')"
      ],
      "metadata": {
        "colab": {
          "base_uri": "https://localhost:8080/"
        },
        "id": "i14SvAJgw6_M",
        "outputId": "393b3d6f-442e-435c-caaa-853e679a94d8"
      },
      "execution_count": 3,
      "outputs": [
        {
          "output_type": "stream",
          "name": "stdout",
          "text": [
            "Mounted at /content/drive\n"
          ]
        }
      ]
    },
    {
      "cell_type": "code",
      "source": [
        "raw_global_terrorismdata=pd.read_csv('/content/drive/MyDrive/Global Terrorism Analysis/Global Terrorism Data.csv',encoding='ISO-8859-1')"
      ],
      "metadata": {
        "colab": {
          "base_uri": "https://localhost:8080/"
        },
        "id": "4LvR_l7XxJTc",
        "outputId": "da1d73d0-48d0-40ae-98ac-1de7616ca053"
      },
      "execution_count": 4,
      "outputs": [
        {
          "output_type": "stream",
          "name": "stderr",
          "text": [
            "/usr/local/lib/python3.7/dist-packages/IPython/core/interactiveshell.py:2882: DtypeWarning: Columns (4,6,31,33,61,62,63,76,79,90,92,94,96,114,115,121) have mixed types.Specify dtype option on import or set low_memory=False.\n",
            "  exec(code_obj, self.user_global_ns, self.user_ns)\n"
          ]
        }
      ]
    },
    {
      "cell_type": "code",
      "source": [
        "raw_global_terrorismdata"
      ],
      "metadata": {
        "id": "Lo_FgGw80Dav"
      },
      "execution_count": null,
      "outputs": []
    },
    {
      "cell_type": "code",
      "source": [
        "list(raw_global_terrorismdata)"
      ],
      "metadata": {
        "id": "3NWBT-tex8L_"
      },
      "execution_count": null,
      "outputs": []
    },
    {
      "cell_type": "code",
      "source": [
        "global_terrorismdata=raw_global_terrorismdata.copy()"
      ],
      "metadata": {
        "id": "fuIEQDAP6YRg"
      },
      "execution_count": 5,
      "outputs": []
    },
    {
      "cell_type": "code",
      "source": [
        "global_terrorismdata['country_txt'].fillna('Unknown',inplace=True)\n",
        "global_terrorismdata['region_txt'].fillna('Unknown',inplace=True)\n",
        "global_terrorismdata['city'].fillna('Unknown',inplace=True)\n",
        "global_terrorismdata['provstate'].fillna('Unknown',inplace=True)\n",
        "global_terrorismdata['nwoundte'].fillna(0,inplace=True)\n",
        "global_terrorismdata['ransomamt'].fillna(0,inplace=True)\n",
        "global_terrorismdata['ransompaid'].fillna(0,inplace=True)\n",
        "global_terrorismdata['success'].fillna('Unknown',inplace=True)\n",
        "global_terrorismdata['attacktype1_txt'].fillna('Unknown',inplace=True)\n",
        "global_terrorismdata['targtype1_txt'].fillna('Unknown',inplace=True)\n",
        "global_terrorismdata['gname'].fillna('Unknown',inplace=True)\n",
        "global_terrorismdata['weaptype1_txt'].fillna('Unknown',inplace=True)\n",
        "global_terrorismdata['nkill'].fillna(0,inplace=True)\n",
        "global_terrorismdata['nwound'].fillna(0,inplace=True)\n",
        "global_terrorismdata['propvalue'].fillna(0,inplace=True)\n",
        "global_terrorismdata['property'].fillna(0,inplace=True)\n",
        "global_terrorismdata['nkillter'].fillna(0,inplace=True)\n",
        "global_terrorismdata['alternative_txt'].fillna('unknown',inplace=True)\n",
        "global_terrorismdata['doubtterr'].fillna(0,inplace=True)\n",
        "global_terrorismdata['hostkidoutcome_txt'].fillna('Unknown',inplace=True)"
      ],
      "metadata": {
        "id": "8V65keHNAtHB"
      },
      "execution_count": 6,
      "outputs": []
    },
    {
      "cell_type": "code",
      "source": [
        "na_coloumn=[]\n",
        "for i in list(global_terrorismdata):\n",
        "  if ((global_terrorismdata[i].isna().sum())*100/181691)>0:\n",
        "    na_coloumn.append(i)\n",
        "for i in na_coloumn:\n",
        "   global_terrorismdata.drop(i, inplace=True, axis=1)\n",
        "     "
      ],
      "metadata": {
        "id": "_O08zjWlzoav"
      },
      "execution_count": 7,
      "outputs": []
    },
    {
      "cell_type": "code",
      "source": [
        "global_terrorismdata.rename(columns={'iyear':'YEAR',\n",
        "                           'imonth':'MONTH',\n",
        "                           'iday':'DAY',\n",
        "                           'country_txt':'COUNTRY',\n",
        "                           'region_txt':'REGION',\n",
        "                           'success':'SUCCESS',\n",
        "                           'provstate':'STATE',\n",
        "                           'attacktype1_txt':'ATTACK TYPE',\n",
        "                           'targtype1_txt':'TARGET TYPE',\n",
        "                           'gname':'ORGANISATION',\n",
        "                           'weaptype1_txt':'WEAPON TYPE',\n",
        "                           'nwound':'NO. OF WOUNDED',\n",
        "                           'nkill':'NO. OF KILLED',\n",
        "                           'nwoundte':'CULPRIT WOUNDED',\n",
        "                           'ransomamt':'RANSOM AMOUNT',\n",
        "                           'ransompaid':'RANSOM AMOUNT PAID',\n",
        "                           'nkillter':'CULPRIT KILLED',\n",
        "                           'doubtterr':'DOUBT TERROR',\n",
        "                           'dbsource':'DATA BASE SOURCE'},inplace=True)"
      ],
      "metadata": {
        "id": "UBRSYzjDMIs8"
      },
      "execution_count": 8,
      "outputs": []
    },
    {
      "cell_type": "code",
      "source": [
        "global_terrorismdata['CASUALITY']=global_terrorismdata['NO. OF KILLED']+global_terrorismdata['NO. OF WOUNDED']"
      ],
      "metadata": {
        "id": "F6ogzScuzP6f"
      },
      "execution_count": 10,
      "outputs": []
    },
    {
      "cell_type": "code",
      "source": [
        "total_attacks=px.choropleth( gtd_country,locations='country',locationmode='country names',projection='orthographic',color='eventid',\n",
        "                            template='plotly_dark', hover_name='country',\n",
        "                            title='Total number of attacks(1970-2017)',\n",
        "                            color_continuous_scale = px.colors.sequential.Blugrn,\n",
        "                            labels={'eventid':'attacks'})"
      ],
      "metadata": {
        "id": "dtICbqkzz8kY"
      },
      "execution_count": null,
      "outputs": []
    }
  ]
}